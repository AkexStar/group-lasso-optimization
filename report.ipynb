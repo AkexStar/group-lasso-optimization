{
 "cells": [
  {
   "cell_type": "markdown",
   "metadata": {},
   "source": [
    "## Group-LASSO-problem 作业\n",
    "\n",
    "李锦韬 2201213292\n",
    "\n",
    "本文档为 Group-LASSO-problem 作业的实验报告，用于进一步说明ReadME中的内容。"
   ]
  },
  {
   "cell_type": "markdown",
   "metadata": {},
   "source": [
    "### 问题描述\n",
    "\n",
    "考虑以下问题：\n",
    "\n",
    "$$\n",
    "\\min _{x \\in \\mathbb{R}^{n \\times l}} \\frac{1}{2}\\|A x-b\\|_F^2+\\mu\\|x\\|_{1,2}\n",
    "$$\n",
    "\n",
    "其中 $A \\in \\mathbb{R}^{m \\times n}$, $b \\in \\mathbb{R}^{m \\times l}$, $\\mu>0$ 并且\n",
    "\n",
    "$$\n",
    "\\|x\\|_{1,2}=\\sum_{i=1}^n\\|x(i, 1: l)\\|_2\n",
    "$$\n",
    "\n",
    "其中 $x(i, 1: l)$ 是矩阵 $x$ 的第 $i$ 行。"
   ]
  },
  {
   "cell_type": "markdown",
   "metadata": {},
   "source": [
    "## 第一题\n",
    "\n",
    "使用 CVX 软件包直接求解上述问题，求解器分别选择 mosek 和 gurobi，比较两个求解器的求解效率。\n",
    "\n",
    "\n"
   ]
  }
 ],
 "metadata": {
  "language_info": {
   "name": "python"
  }
 },
 "nbformat": 4,
 "nbformat_minor": 2
}
